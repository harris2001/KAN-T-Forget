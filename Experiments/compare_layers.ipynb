{
 "cells": [
  {
   "cell_type": "code",
   "execution_count": 13,
   "metadata": {},
   "outputs": [
    {
     "ename": "ModuleNotFoundError",
     "evalue": "No module named 'saved_models'",
     "output_type": "error",
     "traceback": [
      "\u001b[0;31m---------------------------------------------------------------------------\u001b[0m",
      "\u001b[0;31mModuleNotFoundError\u001b[0m                       Traceback (most recent call last)",
      "Cell \u001b[0;32mIn[13], line 10\u001b[0m\n\u001b[1;32m      8\u001b[0m os\u001b[38;5;241m.\u001b[39mchdir(\u001b[38;5;124m'\u001b[39m\u001b[38;5;124m../models\u001b[39m\u001b[38;5;124m'\u001b[39m)\n\u001b[1;32m      9\u001b[0m \u001b[38;5;28;01mfrom\u001b[39;00m \u001b[38;5;21;01mScaled_KAN\u001b[39;00m \u001b[38;5;28;01mimport\u001b[39;00m FastKAN\n\u001b[0;32m---> 10\u001b[0m \u001b[38;5;28;01mfrom\u001b[39;00m \u001b[38;5;21;01msaved_models\u001b[39;00m \u001b[38;5;28;01mimport\u001b[39;00m load_model\n\u001b[1;32m     12\u001b[0m device \u001b[38;5;241m=\u001b[39m torch\u001b[38;5;241m.\u001b[39mdevice(\u001b[38;5;124m\"\u001b[39m\u001b[38;5;124mcuda\u001b[39m\u001b[38;5;124m\"\u001b[39m \u001b[38;5;28;01mif\u001b[39;00m torch\u001b[38;5;241m.\u001b[39mcuda\u001b[38;5;241m.\u001b[39mis_available() \u001b[38;5;28;01melse\u001b[39;00m \u001b[38;5;124m\"\u001b[39m\u001b[38;5;124mcpu\u001b[39m\u001b[38;5;124m\"\u001b[39m)\n\u001b[1;32m     14\u001b[0m model_conv \u001b[38;5;241m=\u001b[39m FastKAN(\n\u001b[1;32m     15\u001b[0m                 layers_hidden\u001b[38;5;241m=\u001b[39m[\u001b[38;5;241m784\u001b[39m,\u001b[38;5;241m1569\u001b[39m,\u001b[38;5;241m10\u001b[39m],\n\u001b[1;32m     16\u001b[0m                 num_grids\u001b[38;5;241m=\u001b[39m\u001b[38;5;241m4\u001b[39m,\n\u001b[1;32m     17\u001b[0m                 device\u001b[38;5;241m=\u001b[39mdevice\n\u001b[1;32m     18\u001b[0m             )\n",
      "\u001b[0;31mModuleNotFoundError\u001b[0m: No module named 'saved_models'"
     ]
    }
   ],
   "source": [
    "import torch \n",
    "import matplotlib.pyplot as plt \n",
    "import ipywidgets as widgets \n",
    "from ipywidgets import interact, interactive, fixed \n",
    "import numpy as np \n",
    "import os\n",
    "\n",
    "os.chdir('../models')\n",
    "from Scaled_KAN import FastKAN\n",
    "from saved_models import load_model\n",
    "\n",
    "device = torch.device(\"cuda\" if torch.cuda.is_available() else \"cpu\")\n",
    "\n",
    "model_conv = FastKAN(\n",
    "                layers_hidden=[784,1569,10],\n",
    "                num_grids=4,\n",
    "                device=device\n",
    "            )\n",
    "model_continual_ewc = FastKAN(\n",
    "                layers_hidden=[784,1569,10],\n",
    "                num_grids=4,\n",
    "                device=device\n",
    "            )\n",
    "model_continual_replay = FastKAN(\n",
    "                layers_hidden=[784,1569,10],\n",
    "                num_grids=4,\n",
    "                device=device\n",
    "            )\n",
    "\n",
    "model_conv.load_state_dict(load_model('FastKAN_4_6M.pth'))\n",
    "model_conv.eval()\n",
    "\n",
    "model_continual_ewc.load_state_dict(load_model('continual_mnist_FastKAN_1569_ewc.pth'))\n",
    "model_continual_ewc.eval()\n",
    "\n",
    "model_continual_replay.load_state_dict(load_model('continual_mnist_FastKAN_1569_replay.pth'))\n",
    "model_continual_replay.eval()\n",
    "\n",
    "layers_conv = []\n",
    "layers_continual_ewc = []\n",
    "layers_continual_replay = []\n",
    "for layer in model_conv.modules():\n",
    "    layers_conv.append(layer)\n",
    "for layer in model_continual_ewc.modules():\n",
    "    layers_continual_ewc.append(layer)\n",
    "for layer in model_continual_replay.modules():\n",
    "    layers_continual_replay.append(layer)\n",
    "\n",
    "layer_conv = layers_conv[1]\n",
    "layer_continual_ewc = layers_continual_ewc[1]\n",
    "layer_continual_replay = layers_continual_replay[1]\n",
    "\n",
    "\n",
    "# Assuming layer[1].plot_curve is a function that takes two arguments and returns x, y coordinates\n",
    "def plot_curve_with_slider(j):\n",
    "    x_conv, y_conv = layer_conv[1].plot_curve(0, j, num_pts=100, num_extrapolate_bins=3)\n",
    "    x_continual_ewc, y_continual_ewc = layer_continual_ewc[1].plot_curve(0, j, num_pts=100, num_extrapolate_bins=3)\n",
    "    x_continual_replay, y_continual_replay = layer_continual_replay[1].plot_curve(0, j, num_pts=100, num_extrapolate_bins=3)\n",
    "    x_conv, y_conv = x_conv.cpu().numpy(), y_conv.cpu().numpy()\n",
    "    x_continual_ewc, y_continual_ewc = x_continual_ewc.cpu().numpy(), y_continual_ewc.cpu().numpy()\n",
    "    x_continual_replay, y_continual_replay = x_continual_replay.cpu().numpy(), y_continual_replay.cpu().numpy()\n",
    "    plt.plot(x_conv, y_conv, label='Conv')\n",
    "    plt.plot(x_continual_ewc, y_continual_ewc, label='Continual EWC')\n",
    "    plt.plot(x_continual_replay, y_continual_replay, label='Continual Replay')\n",
    "    plt.legend()\n",
    "    plt.show()\n",
    "# Create an interactive slider\n",
    "interactive_plot = interactive(plot_curve_with_slider, j=widgets.SelectionSlider(options=[i for i in range(10)]))\n",
    "output = interactive_plot.children[-1]\n",
    "output.layout.height = '500px'\n",
    "interactive_plot"
   ]
  },
  {
   "cell_type": "code",
   "execution_count": null,
   "metadata": {},
   "outputs": [],
   "source": []
  }
 ],
 "metadata": {
  "kernelspec": {
   "display_name": "venv",
   "language": "python",
   "name": "python3"
  },
  "language_info": {
   "codemirror_mode": {
    "name": "ipython",
    "version": 3
   },
   "file_extension": ".py",
   "mimetype": "text/x-python",
   "name": "python",
   "nbconvert_exporter": "python",
   "pygments_lexer": "ipython3",
   "version": "3.12.4"
  }
 },
 "nbformat": 4,
 "nbformat_minor": 2
}
