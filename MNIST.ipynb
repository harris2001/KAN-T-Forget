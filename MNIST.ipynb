{
 "cells": [
  {
   "cell_type": "code",
   "execution_count": 87,
   "id": "99a1d7c2-e8bd-43c3-8849-24fadafcabde",
   "metadata": {},
   "outputs": [],
   "source": [
    "import numpy as np\n",
    "import pandas as pd\n",
    "import random\n",
    "import torch\n",
    "import torch.nn as nn\n",
    "import torchvision.datasets as datasets\n",
    "import torchvision.transforms as T\n",
    "import torch.nn.functional as F\n",
    "import torch.optim as optim\n",
    "\n",
    "import matplotlib.pyplot as plt\n",
    "\n",
    "seed = 1234\n",
    "random.seed(seed)\n",
    "np.random.seed(seed)\n",
    "torch.manual_seed(seed)\n",
    "\n",
    "device = torch.device(\"cuda\")\n",
    "\n",
    "batch_size_train = 64\n",
    "batch_size_test = 1000\n",
    "lr = 1\n",
    "momentum = 0.7\n",
    "\n",
    "tasks = 10"
   ]
  },
  {
   "cell_type": "markdown",
   "id": "b9504227-99a5-49ce-a21f-fe3b8f66d40e",
   "metadata": {},
   "source": [
    "# MLP Supervised Learning (Hand-written Digit Classification)\n",
    "\n",
    "We perform pairwise image classification on MNIST hand-written digits datastet\n",
    "\n",
    "* 28x28 Neurons on the first layer (Flatten images)\n",
    "* 512 Neurons on the hidden layer\n",
    "* 2 Neurons predicting which of the two pairs the images belongs to\n"
   ]
  },
  {
   "cell_type": "code",
   "execution_count": null,
   "id": "228b5018-5b38-4f53-b412-3b864db8b937",
   "metadata": {},
   "outputs": [],
   "source": [
    "class NN(nn.Module):\n",
    "    def __init__(self):\n",
    "        super().__init__()\n",
    "        self.ff1 = nn.Linear(28*28, 512)\n",
    "        self.ff2 = nn.Linear(512, 10)\n",
    "        self.log_softmax = F.log_softmax\n",
    "\n",
    "    def forward(self,x):\n",
    "        x = F.relu(self.ff1(x))\n",
    "        x = self.log_softmax(self.ff2(x), dim=1)\n",
    "        return x"
   ]
  },
  {
   "cell_type": "markdown",
   "id": "66a97740-825f-4a76-addc-5f6f5067b12f",
   "metadata": {},
   "source": [
    "### Training and Testing\n",
    "Using torch dataloaders and optimizers to train and test the model using the splitted data"
   ]
  },
  {
   "cell_type": "code",
   "execution_count": 88,
   "id": "20e533f2-fba9-4be9-a4e6-2484cbde2e71",
   "metadata": {},
   "outputs": [],
   "source": [
    "def train(model, device, train_loader, optimizer):\n",
    "    model.train()\n",
    "    correct = 0\n",
    "    for batch_i, (data, target) in enumerate(train_loader):\n",
    "        data, target = data.to(device), target.to(device)\n",
    "        #For every batch make gradient zero\n",
    "        optimizer.zero_grad()\n",
    "        output = model(data)\n",
    "        #Compute the negative log likelihood\n",
    "        loss = F.nll_loss(output, target)\n",
    "        #Backprobagate the loss\n",
    "        loss.backward()\n",
    "        optimizer.step()\n",
    "\n",
    "        pred = output.argmax(dim=1, keepdim=True)\n",
    "        correct += pred.eq(target.view_as(pred)).sum().item()\n",
    "\n",
    "    train_acc = 100. * correct / len(train_loader.dataset)\n",
    "    return train_acc\n",
    "\n",
    "def test(model, device, test_loader):\n",
    "    model.eval()\n",
    "    test_loss = 0\n",
    "    correct = 0\n",
    "    with torch.no_grad():\n",
    "        for data, target in test_loader:\n",
    "            data, target = data.to(device), target.to(device)\n",
    "            output = model(data)\n",
    "            test_loss += F.nll_loss(output, target, reduction='sum').item()\n",
    "            pred = output.argmax(dim=1, keepdim=True)\n",
    "            correct += pred.eq(target.view_as(pred)).sum().item()\n",
    "\n",
    "    test_loss /= len(test_loader.dataset)\n",
    "    test_acc = 100. * correct / len(test_loader.dataset)\n",
    "    return test_loss, test_acc"
   ]
  },
  {
   "cell_type": "markdown",
   "id": "b30114c0-e486-43bc-b239-f37945ec6fd0",
   "metadata": {},
   "source": [
    "### Looking into the data\n",
    "We compute the mean and std from the given dataset so that it's easier for the optimizer to compute the optimal parameters"
   ]
  },
  {
   "cell_type": "code",
   "execution_count": 90,
   "id": "0b9c2120-3aba-43e6-a996-101cf4aa3cea",
   "metadata": {},
   "outputs": [
    {
     "data": {
      "image/png": "[encoded data removed]",
      "text/plain": [
       "<Figure size 640x480 with 1 Axes>"
      ]
     },
     "metadata": {},
     "output_type": "display_data"
    },
    {
     "name": "stdout",
     "output_type": "stream",
     "text": [
      "Calculated mean: 0.13066047430038452\n",
      "Calculated std: 0.30810782313346863\n"
     ]
    }
   ],
   "source": [
    "tt = T.Compose([\n",
    "    T.ToTensor(),\n",
    "    # T.Normalize((0.1307,),(0.3081,)),\n",
    "    T.Lambda(lambda x: torch.flatten(x))\n",
    "])\n",
    "train_df = datasets.MNIST('../data', train=True, transform=tt)\n",
    "\n",
    "train_loader = torch.utils.data.DataLoader(train_df, batch_size=300000, shuffle=False)\n",
    "\n",
    "mean = 0\n",
    "std = 0\n",
    "from fastai.vision.all import show_image\n",
    "\n",
    "for data in train_loader:\n",
    "    #Computing the mean and std of the data\n",
    "    mean = data[0].mean()\n",
    "    std = data[0].std()\n",
    "    img_tensor = data[0][0]  # Get the first image tensor in the batch\n",
    "    img = T.functional.to_pil_image(img_tensor.reshape(28,-1))  # Convert tensor to PIL image\n",
    "    plt.imshow(img, cmap=\"Greys\")  # Display the image using matplotlib\n",
    "    plt.show()    \n",
    "print(f\"Calculated mean: {mean}\")\n",
    "print(f\"Calculated std: {std}\")"
   ]
  },
  {
   "cell_type": "code",
   "execution_count": 81,
   "id": "8e69be73-93da-4577-99f1-53ba1a5976f5",
   "metadata": {},
   "outputs": [
    {
     "name": "stdout",
     "output_type": "stream",
     "text": [
      "Epoch 1 train/test accuracy: 94.44/96.95\n",
      "Epoch 2 train/test accuracy: 98.29/97.66\n",
      "Epoch 3 train/test accuracy: 99.11/97.96\n",
      "Epoch 4 train/test accuracy: 99.54/98.06\n",
      "Epoch 5 train/test accuracy: 99.75/98.04\n",
      "Epoch 6 train/test accuracy: 99.83/98.15\n",
      "Epoch 7 train/test accuracy: 99.88/98.20\n",
      "Epoch 8 train/test accuracy: 99.91/98.29\n",
      "Epoch 9 train/test accuracy: 99.92/98.33\n",
      "Epoch 10 train/test accuracy: 99.92/98.34\n"
     ]
    }
   ],
   "source": [
    "def first_test(model, device):\n",
    "    transform = T.Compose([\n",
    "        T.ToTensor(),\n",
    "        T.Normalize((0.1307),(0.3081)),\n",
    "        T.Lambda(lambda x: torch.flatten(x))\n",
    "    ])\n",
    "    train_df = datasets.MNIST('../data', train=True, download=True, transform=transform)\n",
    "    test_df = datasets.MNIST('../data', train=False, download=True, transform=transform)\n",
    "    train_loader = torch.utils.data.DataLoader(train_df, batch_size=batch_size_train)\n",
    "    test_loader = torch.utils.data.DataLoader(test_df, batch_size=batch_size_test)\n",
    "    optimizer = optim.Adadelta(model.parameters(), lr=lr)\n",
    "    scheduler = optim.lr_scheduler.StepLR(optimizer, step_size=1, gamma=momentum)\n",
    "\n",
    "    for epoch in range(10):\n",
    "        train_acc = train(model, device, train_loader, optimizer)\n",
    "        test_loss, test_acc = test(model, device, test_loader)\n",
    "        scheduler.step()\n",
    "        print(f'Epoch {epoch+1} train/test accuracy: {train_acc:.2f}/{test_acc:.2f}')\n",
    "\n",
    "model = NN().to(device)\n",
    "first_test(model, device)"
   ]
  },
  {
   "cell_type": "code",
   "execution_count": 93,
   "id": "2381bcd0-7e8a-4c46-afee-158294dcae0d",
   "metadata": {},
   "outputs": [],
   "source": [
    "# Pairwise continual learning function\n",
    "def pairwise_continual_learning(model, device, pairs):\n",
    "    transform = T.Compose([\n",
    "        T.ToTensor(),\n",
    "        T.Normalize((0.1307,), (0.3081,)),\n",
    "        T.Lambda(lambda x: torch.flatten(x))\n",
    "    ])\n",
    "    overall_train_acc = []\n",
    "    overall_test_acc = []\n",
    "\n",
    "    \n",
    "    pairs = [(1, 2), (3, 4), (5, 6), (7, 8), (9, 0)]\n",
    "    for pair in pairs:\n",
    "        digit1, digit2 = pair\n",
    "        \n",
    "        # Prepare data loaders for the current pair\n",
    "        train_df = datasets.MNIST('../data', train=True, download=True, transform=transform)\n",
    "        test_df = datasets.MNIST('../data', train=False, download=True, transform=transform)\n",
    "        \n",
    "        train_indices = ((train_df.targets == digit1) | (train_df.targets == digit2))\n",
    "        test_indices = ((test_df.targets == digit1) | (test_df.targets == digit2))\n",
    "        \n",
    "        train_df.targets = train_df.targets[train_indices]\n",
    "        train_df.data = train_df.data[train_indices]\n",
    "        test_df.targets = test_df.targets[test_indices]\n",
    "        test_df.data = test_df.data[test_indices]\n",
    "\n",
    "        train_loader = torch.utils.data.DataLoader(train_df, batch_size=batch_size, shuffle=True)\n",
    "        test_loader = torch.utils.data.DataLoader(test_df, batch_size=batch_size, shuffle=False)\n",
    "        \n",
    "        # Define optimizer and scheduler\n",
    "        optimizer = optim.Adadelta(model.parameters(), lr=lr)\n",
    "        scheduler = optim.lr_scheduler.StepLR(optimizer, step_size=1, gamma=momentum)\n",
    "        \n",
    "        # Train and test on current pair\n",
    "        for epoch in range(5):  # Training each pair for 5 epochs\n",
    "            train_acc = train(model, device, train_loader, optimizer)\n",
    "            test_loss, test_acc = test(model, device, test_loader)\n",
    "            scheduler.step()\n",
    "            print(f'Pair {digit1}-{digit2}, Epoch {epoch+1}, Train Acc: {train_acc:.2f}, Test Acc: {test_acc:.2f}')\n",
    "        \n",
    "        overall_train_acc.append(train_acc)\n",
    "        overall_test_acc.append(test_acc)\n",
    "        \n",
    "        # Freeze model parameters after training on current pair\n",
    "        for param in model.parameters():\n",
    "            param.requires_grad = False\n",
    "        \n",
    "    return overall_train_acc, overall_test_acc"
   ]
  },
  {
   "cell_type": "code",
   "execution_count": null,
   "id": "e4dff062-f435-4ade-8cb8-12b0b7968c24",
   "metadata": {},
   "outputs": [],
   "source": [
    "model = NN().to(device)\n",
    "\n",
    "pairwise_continual_learning(model, device, pairs)"
   ]
  }
 ],
 "metadata": {
  "kernelspec": {
   "display_name": "ML",
   "language": "python",
   "name": "ml"
  },
  "language_info": {
   "codemirror_mode": {
    "name": "ipython",
    "version": 3
   },
   "file_extension": ".py",
   "mimetype": "text/x-python",
   "name": "python",
   "nbconvert_exporter": "python",
   "pygments_lexer": "ipython3",
   "version": "3.12.3"
  }
 },
 "nbformat": 4,
 "nbformat_minor": 5
}
