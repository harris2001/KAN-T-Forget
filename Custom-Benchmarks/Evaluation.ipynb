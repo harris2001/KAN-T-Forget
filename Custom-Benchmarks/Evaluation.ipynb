{
 "cells": [
  {
   "cell_type": "code",
   "execution_count": 1,
   "metadata": {},
   "outputs": [
    {
     "name": "stderr",
     "output_type": "stream",
     "text": [
      "/home/thealch3mist/University/Thesis/venv/lib/python3.12/site-packages/tqdm/auto.py:21: TqdmWarning: IProgress not found. Please update jupyter and ipywidgets. See https://ipywidgets.readthedocs.io/en/stable/user_install.html\n",
      "  from .autonotebook import tqdm as notebook_tqdm\n"
     ]
    }
   ],
   "source": [
    "from avalanche.logging import InteractiveLogger, TextLogger, TensorboardLogger\n",
    "from avalanche.training.plugins import EvaluationPlugin\n",
    "from avalanche.evaluation.metrics import ExperienceForgetting, accuracy_metrics, loss_metrics, cpu_usage_metrics\n",
    "\n",
    "eval_plugin = EvaluationPlugin(\n",
    "    accuracy_metrics(minibatch=True, stream=True),\n",
    "    loss_metrics(minibatch=True, experience=True),\n",
    "    ExperienceForgetting(),\n",
    "    cpu_usage_metrics(stream=True),\n",
    "    loggers=[TextLogger(open('out.txt','w')),\n",
    "                        InteractiveLogger(),\n",
    "                        TensorboardLogger()]\n",
    ")\n",
    "\n",
    "metric_dict = eval_plugin.get_all_metrics()"
   ]
  },
  {
   "cell_type": "code",
   "execution_count": 2,
   "metadata": {},
   "outputs": [
    {
     "name": "stdout",
     "output_type": "stream",
     "text": [
      "Initial Accuracy 0.0\n",
      "Accuracy after update 0.3333333333333333\n"
     ]
    }
   ],
   "source": [
    "import torch\n",
    "from avalanche.evaluation.metrics import Accuracy\n",
    "\n",
    "acc_metrics = Accuracy()\n",
    "print(f\"Initial Accuracy {acc_metrics.result()}\")\n",
    "\n",
    "target_y = torch.tensor([0, 1, 2])\n",
    "output_y = torch.tensor([0, 5, 7])\n",
    "\n",
    "acc_metrics.update(target_y, output_y)\n",
    "print(f\"Accuracy after update {acc_metrics.result()}\")"
   ]
  },
  {
   "cell_type": "code",
   "execution_count": null,
   "metadata": {},
   "outputs": [],
   "source": []
  }
 ],
 "metadata": {
  "kernelspec": {
   "display_name": "venv",
   "language": "python",
   "name": "python3"
  },
  "language_info": {
   "codemirror_mode": {
    "name": "ipython",
    "version": 3
   },
   "file_extension": ".py",
   "mimetype": "text/x-python",
   "name": "python",
   "nbconvert_exporter": "python",
   "pygments_lexer": "ipython3",
   "version": "3.12.4"
  }
 },
 "nbformat": 4,
 "nbformat_minor": 2
}
