{
 "cells": [
  {
   "cell_type": "code",
   "execution_count": 2,
   "metadata": {},
   "outputs": [],
   "source": [
    "from avalanche.logging import InteractiveLogger, TextLogger, TensorboardLogger\n",
    "from avalanche.training.plugins import EvaluationPlugin\n",
    "from avalanche.evaluation.metrics import ExperienceForgetting, accuracy_metrics, loss_metrics, cpu_usage_metrics\n",
    "\n",
    "eval_plugin = EvaluationPlugin(\n",
    "    accuracy_metrics(minibatch=True, stream=True),\n",
    "    loss_metrics(minibatch=True, experience=True),\n",
    "    ExperienceForgetting(),\n",
    "    cpu_usage_metrics(stream=True),\n",
    "    loggers=[TextLogger(open('out.txt','w')),\n",
    "                        InteractiveLogger(),\n",
    "                        TensorboardLogger()]\n",
    ")\n",
    "\n",
    "metric_dict = eval_plugin.get_all_metrics()"
   ]
  }
 ],
 "metadata": {
  "kernelspec": {
   "display_name": "venv",
   "language": "python",
   "name": "python3"
  },
  "language_info": {
   "codemirror_mode": {
    "name": "ipython",
    "version": 3
   },
   "file_extension": ".py",
   "mimetype": "text/x-python",
   "name": "python",
   "nbconvert_exporter": "python",
   "pygments_lexer": "ipython3",
   "version": "3.12.3"
  }
 },
 "nbformat": 4,
 "nbformat_minor": 2
}
