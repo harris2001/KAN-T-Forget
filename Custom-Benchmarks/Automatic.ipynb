{
 "cells": [
  {
   "cell_type": "code",
   "execution_count": 1,
   "metadata": {},
   "outputs": [
    {
     "name": "stderr",
     "output_type": "stream",
     "text": [
      "/home/thealch3mist/University/Thesis/venv/lib/python3.12/site-packages/tqdm/auto.py:21: TqdmWarning: IProgress not found. Please update jupyter and ipywidgets. See https://ipywidgets.readthedocs.io/en/stable/user_install.html\n",
      "  from .autonotebook import tqdm as notebook_tqdm\n"
     ]
    }
   ],
   "source": [
    "import torch\n",
    "from torch.nn import CrossEntropyLoss\n",
    "from torch.optim import Adam, lr_scheduler\n",
    "\n",
    "from avalanche.benchmarks.classic import SplitMNIST\n",
    "from avalanche.training.plugins import EvaluationPlugin\n",
    "from avalanche.evaluation.metrics import accuracy_metrics\n",
    "from avalanche.models import SimpleMLP\n",
    "from avalanche.training.supervised import Naive\n",
    "\n",
    "seed = 1234\n",
    "torch.manual_seed(seed)\n",
    "\n",
    "device = torch.device(\"cuda\" if torch.cuda.is_available() else \"cpu\")\n",
    "\n",
    "batch_size_train = 32\n",
    "batch_size_test = 32\n",
    "lr = 1e-3\n",
    "momentum = 0.8\n",
    "\n",
    "tasks = 10\n"
   ]
  },
  {
   "cell_type": "code",
   "execution_count": 16,
   "metadata": {},
   "outputs": [
    {
     "name": "stdout",
     "output_type": "stream",
     "text": [
      "<avalanche.benchmarks.scenarios.deprecated.new_classes.nc_scenario.NCStream object at 0x742e41730f50>\n",
      "<avalanche.benchmarks.scenarios.deprecated.new_classes.nc_scenario.NCStream object at 0x742e41732030>\n",
      "Train dataset contains 5421 samples\n",
      "torch.Size([1, 28, 28]) 5 0\n",
      "torch.Size([1, 28, 28]) 5 0\n",
      "torch.Size([1, 28, 28]) 5 0\n",
      "torch.Size([1, 28, 28]) 5 0\n",
      "torch.Size([1, 28, 28]) 5 0\n",
      "...\n",
      "Train dataset contains 5918 samples\n",
      "torch.Size([1, 28, 28]) 6 0\n",
      "torch.Size([1, 28, 28]) 6 0\n",
      "torch.Size([1, 28, 28]) 6 0\n",
      "torch.Size([1, 28, 28]) 6 0\n",
      "torch.Size([1, 28, 28]) 6 0\n",
      "...\n",
      "Train dataset contains 6742 samples\n",
      "torch.Size([1, 28, 28]) 1 0\n",
      "torch.Size([1, 28, 28]) 1 0\n",
      "torch.Size([1, 28, 28]) 1 0\n",
      "torch.Size([1, 28, 28]) 1 0\n",
      "torch.Size([1, 28, 28]) 1 0\n",
      "...\n",
      "Train dataset contains 5958 samples\n",
      "torch.Size([1, 28, 28]) 2 0\n",
      "torch.Size([1, 28, 28]) 2 0\n",
      "torch.Size([1, 28, 28]) 2 0\n",
      "torch.Size([1, 28, 28]) 2 0\n",
      "torch.Size([1, 28, 28]) 2 0\n",
      "...\n",
      "Train dataset contains 5923 samples\n",
      "torch.Size([1, 28, 28]) 0 0\n",
      "torch.Size([1, 28, 28]) 0 0\n",
      "torch.Size([1, 28, 28]) 0 0\n",
      "torch.Size([1, 28, 28]) 0 0\n",
      "torch.Size([1, 28, 28]) 0 0\n",
      "...\n",
      "Train dataset contains 5851 samples\n",
      "torch.Size([1, 28, 28]) 8 0\n",
      "torch.Size([1, 28, 28]) 8 0\n",
      "torch.Size([1, 28, 28]) 8 0\n",
      "torch.Size([1, 28, 28]) 8 0\n",
      "torch.Size([1, 28, 28]) 8 0\n",
      "...\n",
      "Train dataset contains 5949 samples\n",
      "torch.Size([1, 28, 28]) 9 0\n",
      "torch.Size([1, 28, 28]) 9 0\n",
      "torch.Size([1, 28, 28]) 9 0\n",
      "torch.Size([1, 28, 28]) 9 0\n",
      "torch.Size([1, 28, 28]) 9 0\n",
      "...\n",
      "Train dataset contains 6131 samples\n",
      "torch.Size([1, 28, 28]) 3 0\n",
      "torch.Size([1, 28, 28]) 3 0\n",
      "torch.Size([1, 28, 28]) 3 0\n",
      "torch.Size([1, 28, 28]) 3 0\n",
      "torch.Size([1, 28, 28]) 3 0\n",
      "...\n",
      "Train dataset contains 6265 samples\n",
      "torch.Size([1, 28, 28]) 7 0\n",
      "torch.Size([1, 28, 28]) 7 0\n",
      "torch.Size([1, 28, 28]) 7 0\n",
      "torch.Size([1, 28, 28]) 7 0\n",
      "torch.Size([1, 28, 28]) 7 0\n",
      "...\n",
      "Train dataset contains 5842 samples\n",
      "torch.Size([1, 28, 28]) 4 0\n",
      "torch.Size([1, 28, 28]) 4 0\n",
      "torch.Size([1, 28, 28]) 4 0\n",
      "torch.Size([1, 28, 28]) 4 0\n",
      "torch.Size([1, 28, 28]) 4 0\n",
      "...\n"
     ]
    }
   ],
   "source": [
    "benchmark_instance = SplitMNIST(n_experiences=tasks,seed=1)\n",
    "\n",
    "train_stream = benchmark_instance.train_stream\n",
    "test_stream = benchmark_instance.test_stream\n",
    "\n",
    "print(train_stream)\n",
    "print(test_stream)\n",
    "for idx, experience in enumerate(train_stream):\n",
    "    dataset = experience.dataset\n",
    "\n",
    "    print(f\"Train dataset contains {len(dataset)} samples\")\n",
    "\n",
    "    ii = 0\n",
    "    for x,y,t in dataset:\n",
    "        print(x.shape, y, t)\n",
    "        ii += 1\n",
    "        if ii == 5:\n",
    "            print(\"...\")\n",
    "            break\n",
    "\n",
    "    test_expereince = test_stream[idx]\n",
    "    cumulative_test = test_stream[:idx+1]"
   ]
  },
  {
   "cell_type": "code",
   "execution_count": 12,
   "metadata": {},
   "outputs": [
    {
     "ename": "AttributeError",
     "evalue": "'NCStream' object has no attribute 'shape'",
     "output_type": "error",
     "traceback": [
      "\u001b[0;31m---------------------------------------------------------------------------\u001b[0m",
      "\u001b[0;31mAttributeError\u001b[0m                            Traceback (most recent call last)",
      "Cell \u001b[0;32mIn[12], line 1\u001b[0m\n\u001b[0;32m----> 1\u001b[0m \u001b[43mbenchmark_instance\u001b[49m\u001b[38;5;241;43m.\u001b[39;49m\u001b[43mstreams\u001b[49m\u001b[43m[\u001b[49m\u001b[38;5;124;43m'\u001b[39;49m\u001b[38;5;124;43mtrain\u001b[39;49m\u001b[38;5;124;43m'\u001b[39;49m\u001b[43m]\u001b[49m\u001b[38;5;241;43m.\u001b[39;49m\u001b[43mshape\u001b[49m\n",
      "\u001b[0;31mAttributeError\u001b[0m: 'NCStream' object has no attribute 'shape'"
     ]
    }
   ],
   "source": [
    "benchmark_instance.streams['train'].size"
   ]
  },
  {
   "cell_type": "code",
   "execution_count": 8,
   "metadata": {},
   "outputs": [
    {
     "ename": "NameError",
     "evalue": "name 'Fast_KAN' is not defined",
     "output_type": "error",
     "traceback": [
      "\u001b[0;31m---------------------------------------------------------------------------\u001b[0m",
      "\u001b[0;31mNameError\u001b[0m                                 Traceback (most recent call last)",
      "Cell \u001b[0;32mIn[8], line 3\u001b[0m\n\u001b[1;32m      1\u001b[0m \u001b[38;5;28;01mfrom\u001b[39;00m \u001b[38;5;21;01mScaled_KAN\u001b[39;00m \u001b[38;5;28;01mimport\u001b[39;00m FastKAN\n\u001b[1;32m      2\u001b[0m \u001b[38;5;66;03m# model\u001b[39;00m\n\u001b[0;32m----> 3\u001b[0m model \u001b[38;5;241m=\u001b[39m \u001b[43mFast_KAN\u001b[49m(hidden_layers\u001b[38;5;241m=\u001b[39m\u001b[38;5;241m64\u001b[39m, num_classes\u001b[38;5;241m=\u001b[39m\u001b[38;5;241m10\u001b[39m)\n\u001b[1;32m      5\u001b[0m \u001b[38;5;66;03m# CL Benchmark Creation\u001b[39;00m\n\u001b[1;32m      6\u001b[0m perm_mnist \u001b[38;5;241m=\u001b[39m PermutedMNIST(n_experiences\u001b[38;5;241m=\u001b[39m\u001b[38;5;241m3\u001b[39m)\n",
      "\u001b[0;31mNameError\u001b[0m: name 'Fast_KAN' is not defined"
     ]
    }
   ],
   "source": [
    "from Scaled_KAN import FastKAN\n",
    "# model\n",
    "model = Fast_KAN(hidden_layers=64, num_classes=10)\n",
    "\n",
    "# CL Benchmark Creation\n",
    "perm_mnist = PermutedMNIST(n_experiences=3)\n",
    "train_stream = perm_mnist.train_stream\n",
    "test_stream = perm_mnist.test_stream\n",
    "\n",
    "# Prepare for training & testing\n",
    "\n",
    "optimizer = Adam(model.parameters(), lr=lr)\n",
    "scheduler = lr_scheduler.ExponentialLR(optimizer, gamma=momentum)\n",
    "\n",
    "criterion = CrossEntropyLoss()\n",
    "eval_plugin = EvaluationPlugin(\n",
    "    accuracy_metrics(minibatch=True, epoch=True, epoch_running=True, \n",
    "                     experience=True, stream=True))\n",
    "\n",
    "# Continual learning strategy\n",
    "cl_strategy = Naive(\n",
    "    model, optimizer, criterion, train_mb_size=32, train_epochs=2, \n",
    "    eval_mb_size=32, evaluator=eval_plugin, device=device)\n",
    "\n",
    "# train and test loop\n",
    "\n",
    "results = []\n",
    "for train_task in train_stream:\n",
    "    cl_strategy.train(train_task, num_workers=4)\n",
    "    results.append(cl_strategy.eval(test_stream))"
   ]
  },
  {
   "cell_type": "markdown",
   "metadata": {},
   "source": []
  }
 ],
 "metadata": {
  "kernelspec": {
   "display_name": "venv",
   "language": "python",
   "name": "python3"
  },
  "language_info": {
   "codemirror_mode": {
    "name": "ipython",
    "version": 3
   },
   "file_extension": ".py",
   "mimetype": "text/x-python",
   "name": "python",
   "nbconvert_exporter": "python",
   "pygments_lexer": "ipython3",
   "version": "3.12.4"
  }
 },
 "nbformat": 4,
 "nbformat_minor": 2
}
