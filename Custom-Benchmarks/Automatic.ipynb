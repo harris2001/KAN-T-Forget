{
 "cells": [
  {
   "cell_type": "code",
   "execution_count": 1,
   "metadata": {},
   "outputs": [
    {
     "name": "stderr",
     "output_type": "stream",
     "text": [
      "/home/thealch3mist/University/Thesis/venv/lib/python3.12/site-packages/tqdm/auto.py:21: TqdmWarning: IProgress not found. Please update jupyter and ipywidgets. See https://ipywidgets.readthedocs.io/en/stable/user_install.html\n",
      "  from .autonotebook import tqdm as notebook_tqdm\n"
     ]
    }
   ],
   "source": [
    "import torch\n",
    "from torch.nn import CrossEntropyLoss\n",
    "from torch.optim import SGD\n",
    "\n",
    "from avalanche.benchmarks.classic import PermutedMNIST\n",
    "from avalanche.training.plugins import EvaluationPlugin\n",
    "from avalanche.evaluation.metrics import accuracy_metrics\n",
    "from avalanche.models import SimpleMLP\n",
    "from avalanche.training.supervised import Naive\n"
   ]
  },
  {
   "cell_type": "code",
   "execution_count": 2,
   "metadata": {},
   "outputs": [
    {
     "name": "stdout",
     "output_type": "stream",
     "text": [
      "Downloading http://yann.lecun.com/exdb/mnist/train-images-idx3-ubyte.gz\n",
      "Failed to download (trying next):\n",
      "HTTP Error 403: Forbidden\n",
      "\n",
      "Downloading https://ossci-datasets.s3.amazonaws.com/mnist/train-images-idx3-ubyte.gz\n",
      "Downloading https://ossci-datasets.s3.amazonaws.com/mnist/train-images-idx3-ubyte.gz to /home/thealch3mist/.avalanche/data/mnist/MNIST/raw/train-images-idx3-ubyte.gz\n"
     ]
    },
    {
     "name": "stderr",
     "output_type": "stream",
     "text": [
      "100%|██████████| 9912422/9912422 [00:01<00:00, 8056688.52it/s] \n"
     ]
    },
    {
     "name": "stdout",
     "output_type": "stream",
     "text": [
      "Extracting /home/thealch3mist/.avalanche/data/mnist/MNIST/raw/train-images-idx3-ubyte.gz to /home/thealch3mist/.avalanche/data/mnist/MNIST/raw\n",
      "\n",
      "Downloading http://yann.lecun.com/exdb/mnist/train-labels-idx1-ubyte.gz\n",
      "Failed to download (trying next):\n",
      "HTTP Error 403: Forbidden\n",
      "\n",
      "Downloading https://ossci-datasets.s3.amazonaws.com/mnist/train-labels-idx1-ubyte.gz\n",
      "Downloading https://ossci-datasets.s3.amazonaws.com/mnist/train-labels-idx1-ubyte.gz to /home/thealch3mist/.avalanche/data/mnist/MNIST/raw/train-labels-idx1-ubyte.gz\n"
     ]
    },
    {
     "name": "stderr",
     "output_type": "stream",
     "text": [
      "100%|██████████| 28881/28881 [00:00<00:00, 331041.49it/s]\n"
     ]
    },
    {
     "name": "stdout",
     "output_type": "stream",
     "text": [
      "Extracting /home/thealch3mist/.avalanche/data/mnist/MNIST/raw/train-labels-idx1-ubyte.gz to /home/thealch3mist/.avalanche/data/mnist/MNIST/raw\n",
      "\n",
      "Downloading http://yann.lecun.com/exdb/mnist/t10k-images-idx3-ubyte.gz\n",
      "Failed to download (trying next):\n",
      "HTTP Error 403: Forbidden\n",
      "\n",
      "Downloading https://ossci-datasets.s3.amazonaws.com/mnist/t10k-images-idx3-ubyte.gz\n",
      "Downloading https://ossci-datasets.s3.amazonaws.com/mnist/t10k-images-idx3-ubyte.gz to /home/thealch3mist/.avalanche/data/mnist/MNIST/raw/t10k-images-idx3-ubyte.gz\n"
     ]
    },
    {
     "name": "stderr",
     "output_type": "stream",
     "text": [
      "100%|██████████| 1648877/1648877 [00:00<00:00, 2503850.83it/s]\n"
     ]
    },
    {
     "name": "stdout",
     "output_type": "stream",
     "text": [
      "Extracting /home/thealch3mist/.avalanche/data/mnist/MNIST/raw/t10k-images-idx3-ubyte.gz to /home/thealch3mist/.avalanche/data/mnist/MNIST/raw\n",
      "\n",
      "Downloading http://yann.lecun.com/exdb/mnist/t10k-labels-idx1-ubyte.gz\n",
      "Failed to download (trying next):\n",
      "HTTP Error 403: Forbidden\n",
      "\n",
      "Downloading https://ossci-datasets.s3.amazonaws.com/mnist/t10k-labels-idx1-ubyte.gz\n",
      "Downloading https://ossci-datasets.s3.amazonaws.com/mnist/t10k-labels-idx1-ubyte.gz to /home/thealch3mist/.avalanche/data/mnist/MNIST/raw/t10k-labels-idx1-ubyte.gz\n"
     ]
    },
    {
     "name": "stderr",
     "output_type": "stream",
     "text": [
      "100%|██████████| 4542/4542 [00:00<00:00, 3698413.66it/s]\n"
     ]
    },
    {
     "name": "stdout",
     "output_type": "stream",
     "text": [
      "Extracting /home/thealch3mist/.avalanche/data/mnist/MNIST/raw/t10k-labels-idx1-ubyte.gz to /home/thealch3mist/.avalanche/data/mnist/MNIST/raw\n",
      "\n"
     ]
    },
    {
     "name": "stderr",
     "output_type": "stream",
     "text": [
      "/home/thealch3mist/University/Thesis/venv/lib/python3.12/site-packages/avalanche/training/plugins/evaluation.py:94: UserWarning: No loggers specified, metrics will not be logged\n",
      "  warnings.warn(\"No loggers specified, metrics will not be logged\")\n",
      "/home/thealch3mist/University/Thesis/venv/lib/python3.12/site-packages/avalanche/training/templates/base.py:468: PositionalArgumentsDeprecatedWarning: Avalanche is transitioning to strategy constructors that accept named (keyword) arguments only. This is done to ensure that there is no confusion regarding the meaning of each argument (strategies can have many arguments). Your are passing 3 positional arguments to the Naive.__init__ method. Consider passing them as names arguments. The ability to pass positional arguments will be removed in the future.\n",
      "  warnings.warn(error_str, category=PositionalArgumentsDeprecatedWarning)\n"
     ]
    }
   ],
   "source": [
    "\n",
    "# Config\n",
    "device = torch.device(\"cuda:0\" if torch.cuda.is_available() else \"cpu\")\n",
    "\n",
    "# model\n",
    "model = SimpleMLP(num_classes=10)\n",
    "\n",
    "# CL Benchmark Creation\n",
    "perm_mnist = PermutedMNIST(n_experiences=3)\n",
    "train_stream = perm_mnist.train_stream\n",
    "test_stream = perm_mnist.test_stream\n",
    "\n",
    "# Prepare for training & testing\n",
    "optimizer = SGD(model.parameters(), lr=0.001, momentum=0.9)\n",
    "criterion = CrossEntropyLoss()\n",
    "eval_plugin = EvaluationPlugin(\n",
    "    accuracy_metrics(minibatch=True, epoch=True, epoch_running=True, \n",
    "                     experience=True, stream=True))\n",
    "\n",
    "# Continual learning strategy\n",
    "cl_strategy = Naive(\n",
    "    model, optimizer, criterion, train_mb_size=32, train_epochs=2, \n",
    "    eval_mb_size=32, evaluator=eval_plugin, device=device)\n",
    "\n",
    "# train and test loop\n",
    "\n",
    "results = []\n",
    "for train_task in train_stream:\n",
    "    cl_strategy.train(train_task, num_workers=4)\n",
    "    results.append(cl_strategy.eval(test_stream))"
   ]
  },
  {
   "cell_type": "code",
   "execution_count": 8,
   "metadata": {},
   "outputs": [
    {
     "name": "stdout",
     "output_type": "stream",
     "text": [
      "[{'Top1_Acc_Epoch/train_phase/train_stream/Task000': 0.9238666666666666,\n",
      "  'Top1_Acc_Exp/eval_phase/test_stream/Task000/Exp000': 0.9469,\n",
      "  'Top1_Acc_Exp/eval_phase/test_stream/Task000/Exp001': 0.1097,\n",
      "  'Top1_Acc_Exp/eval_phase/test_stream/Task000/Exp002': 0.143,\n",
      "  'Top1_Acc_MB/train_phase/train_stream/Task000': 0.96875,\n",
      "  'Top1_Acc_Stream/eval_phase/test_stream/Task000': 0.39986666666666665,\n",
      "  'Top1_RunningAcc_Epoch/train_phase/train_stream/Task000': 0.9238666666666666},\n",
      " {'Top1_Acc_Epoch/train_phase/train_stream/Task000': 0.9346166666666667,\n",
      "  'Top1_Acc_Exp/eval_phase/test_stream/Task000/Exp000': 0.9375,\n",
      "  'Top1_Acc_Exp/eval_phase/test_stream/Task000/Exp001': 0.9529,\n",
      "  'Top1_Acc_Exp/eval_phase/test_stream/Task000/Exp002': 0.1224,\n",
      "  'Top1_Acc_MB/train_phase/train_stream/Task000': 0.90625,\n",
      "  'Top1_Acc_Stream/eval_phase/test_stream/Task000': 0.6709333333333334,\n",
      "  'Top1_RunningAcc_Epoch/train_phase/train_stream/Task000': 0.9346166666666667},\n",
      " {'Top1_Acc_Epoch/train_phase/train_stream/Task000': 0.93795,\n",
      "  'Top1_Acc_Exp/eval_phase/test_stream/Task000/Exp000': 0.919,\n",
      "  'Top1_Acc_Exp/eval_phase/test_stream/Task000/Exp001': 0.9436,\n",
      "  'Top1_Acc_Exp/eval_phase/test_stream/Task000/Exp002': 0.9583,\n",
      "  'Top1_Acc_MB/train_phase/train_stream/Task000': 0.9375,\n",
      "  'Top1_Acc_Stream/eval_phase/test_stream/Task000': 0.9403,\n",
      "  'Top1_RunningAcc_Epoch/train_phase/train_stream/Task000': 0.93795}]\n"
     ]
    }
   ],
   "source": [
    "import pprint\n",
    "pprint.pprint(results)"
   ]
  },
  {
   "cell_type": "markdown",
   "metadata": {},
   "source": []
  }
 ],
 "metadata": {
  "kernelspec": {
   "display_name": "venv",
   "language": "python",
   "name": "python3"
  },
  "language_info": {
   "codemirror_mode": {
    "name": "ipython",
    "version": 3
   },
   "file_extension": ".py",
   "mimetype": "text/x-python",
   "name": "python",
   "nbconvert_exporter": "python",
   "pygments_lexer": "ipython3",
   "version": "3.12.3"
  }
 },
 "nbformat": 4,
 "nbformat_minor": 2
}
