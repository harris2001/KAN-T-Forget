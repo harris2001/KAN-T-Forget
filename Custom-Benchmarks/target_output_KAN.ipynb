{
 "cells": [
  {
   "cell_type": "code",
   "execution_count": 2,
   "metadata": {},
   "outputs": [],
   "source": [
    "#load the pth model from the current directory\n",
    "import torch    \n",
    "from torchvision import transforms\n",
    "from torchvision.transforms import ToTensor, RandomCrop\n",
    "\n",
    "from matplotlib import pyplot as plt\n",
    "from Scaled_KAN import FastKAN\n",
    "from torchvision.datasets import MNIST\n",
    "from torch.utils.data import DataLoader\n",
    "\n",
    "from avalanche.benchmarks.datasets.dataset_utils import default_dataset_location\n",
    "from avalanche.benchmarks import nc_benchmark\n",
    "\n",
    "train_transform = transforms.Compose(\n",
    "    [\n",
    "        RandomCrop(28, padding=4),\n",
    "        ToTensor(),\n",
    "        transforms.Normalize((0.1307,), (0.3081,)) # Normalise MNIST dataset\n",
    "    ]\n",
    ")\n",
    "test_transform = transforms.Compose(\n",
    "    [ToTensor(), transforms.Normalize((0.1307,), (0.3081,))]\n",
    ")\n",
    "\n",
    "mnist_train = MNIST(\n",
    "    root=default_dataset_location(\"mnist\"),\n",
    "    train=True,\n",
    "    download=True,\n",
    "    transform=train_transform,\n",
    ")\n",
    "mnist_test = MNIST(\n",
    "    root=default_dataset_location(\"mnist\"),\n",
    "    train=False,\n",
    "    download=True,\n",
    "    transform=test_transform,\n",
    ")\n",
    "\n",
    "loaders = {\n",
    "    \"train\": DataLoader(mnist_train, batch_size=64, shuffle=True),\n",
    "    \"test\": DataLoader(mnist_test, batch_size=64, shuffle=False),\n",
    "}"
   ]
  },
  {
   "cell_type": "code",
   "execution_count": 9,
   "metadata": {},
   "outputs": [
    {
     "name": "stdout",
     "output_type": "stream",
     "text": [
      "Train Epoch: 1 [0/60000]\n",
      "Train Epoch: 1 [6400/60000]\n",
      "Train Epoch: 1 [12800/60000]\n",
      "Train Epoch: 1 [19200/60000]\n",
      "Train Epoch: 1 [25600/60000]\n",
      "Train Epoch: 1 [32000/60000]\n",
      "Train Epoch: 1 [38400/60000]\n",
      "Train Epoch: 1 [44800/60000]\n",
      "Train Epoch: 1 [51200/60000]\n",
      "Train Epoch: 1 [57600/60000]\n",
      "\n",
      "Test set: Average loss: 0.0072, Accuracy: 8482/10000 (85%)\n",
      "\n",
      "Train Epoch: 2 [0/60000]\n",
      "Train Epoch: 2 [6400/60000]\n",
      "Train Epoch: 2 [12800/60000]\n",
      "Train Epoch: 2 [19200/60000]\n",
      "Train Epoch: 2 [25600/60000]\n",
      "Train Epoch: 2 [32000/60000]\n",
      "Train Epoch: 2 [38400/60000]\n",
      "Train Epoch: 2 [44800/60000]\n",
      "Train Epoch: 2 [51200/60000]\n",
      "Train Epoch: 2 [57600/60000]\n",
      "\n",
      "Test set: Average loss: 0.0043, Accuracy: 9140/10000 (91%)\n",
      "\n",
      "Train Epoch: 3 [0/60000]\n",
      "Train Epoch: 3 [6400/60000]\n",
      "Train Epoch: 3 [12800/60000]\n",
      "Train Epoch: 3 [19200/60000]\n",
      "Train Epoch: 3 [25600/60000]\n",
      "Train Epoch: 3 [32000/60000]\n",
      "Train Epoch: 3 [38400/60000]\n",
      "Train Epoch: 3 [44800/60000]\n",
      "Train Epoch: 3 [51200/60000]\n",
      "Train Epoch: 3 [57600/60000]\n",
      "\n",
      "Test set: Average loss: 0.0030, Accuracy: 9400/10000 (94%)\n",
      "\n",
      "Train Epoch: 4 [0/60000]\n",
      "Train Epoch: 4 [6400/60000]\n",
      "Train Epoch: 4 [12800/60000]\n",
      "Train Epoch: 4 [19200/60000]\n",
      "Train Epoch: 4 [25600/60000]\n",
      "Train Epoch: 4 [32000/60000]\n",
      "Train Epoch: 4 [38400/60000]\n",
      "Train Epoch: 4 [44800/60000]\n",
      "Train Epoch: 4 [51200/60000]\n",
      "Train Epoch: 4 [57600/60000]\n",
      "\n",
      "Test set: Average loss: 0.0028, Accuracy: 9416/10000 (94%)\n",
      "\n"
     ]
    }
   ],
   "source": [
    "#########################\n",
    "# CONVENTIONAL LEARNING #\n",
    "#########################\n",
    "\n",
    "device = torch.device(\"cuda\" if torch.cuda.is_available() else \"cpu\")\n",
    "\n",
    "model = FastKAN(\n",
    "                layers_hidden=[784,1569,10],\n",
    "                num_grids=4,\n",
    "                device=device\n",
    "            )\n",
    "\n",
    "\n",
    "optimizer = torch.optim.Adam(model.parameters(), lr=0.0001)\n",
    "\n",
    "loss_fn = torch.nn.CrossEntropyLoss()\n",
    "\n",
    "def train(epoch):\n",
    "    # Set the model in training mode\n",
    "    model.train()\n",
    "\n",
    "    # Iterate over the training data\n",
    "    for batch_idx, (data, target) in enumerate(loaders[\"train\"]):\n",
    "        # Move data to cuda\n",
    "        data = data.to(device)\n",
    "        target = target.to(device)\n",
    "\n",
    "        optimizer.zero_grad()\n",
    "\n",
    "        output = model(data)\n",
    "            \n",
    "        loss = loss_fn(output, target)\n",
    "        loss.backward()\n",
    "\n",
    "        optimizer.step()\n",
    "\n",
    "        if batch_idx % 100 == 0:\n",
    "            print(f\"Train Epoch: {epoch} [{batch_idx * len(data)}/{len(loaders['train'].dataset)}]\")\n",
    "\n",
    "def test():\n",
    "    with torch.no_grad():\n",
    "        model.eval()\n",
    "        \n",
    "        test_loss = 0\n",
    "        correct = 0\n",
    "\n",
    "        for data, target in loaders[\"test\"]:\n",
    "            data, target = data.to(device), target.to(device)\n",
    "\n",
    "            output = model(data)\n",
    "            test_loss += loss_fn(output, target).item()\n",
    "            pred = output.argmax(dim=1, keepdim=True)\n",
    "            correct += pred.eq(target.view_as(pred)).sum().item()\n",
    "\n",
    "        test_loss /= len(loaders[\"test\"].dataset)\n",
    "        print(\n",
    "            \"\\nTest set: Average loss: {:.4f}, Accuracy: {}/{} ({:.0f}%)\\n\".format(\n",
    "                test_loss,\n",
    "                correct,\n",
    "                len(loaders[\"test\"].dataset),\n",
    "                100.0 * correct / len(loaders[\"test\"].dataset),\n",
    "            )\n",
    "        )\n",
    "        \n",
    "for epoch in range(1, 5):\n",
    "    train(epoch)\n",
    "    test()\n",
    "\n",
    "torch.save(model.state_dict(), \"FastKAN_4_6M.pth\")\n"
   ]
  },
  {
   "cell_type": "code",
   "execution_count": 85,
   "metadata": {},
   "outputs": [
    {
     "name": "stdout",
     "output_type": "stream",
     "text": [
      "torch.Size([5923, 28, 28])\n"
     ]
    }
   ],
   "source": [
    "# ######################\n",
    "# # CONTINUAL LEARNING #\n",
    "# ######################\n",
    "\n",
    "# # for img, label in mnist_train:\n",
    "# benchmark = nc_benchmark(\n",
    "#     train_dataset=mnist_train, test_dataset=mnist_test, n_experiences=10,\n",
    "#     task_labels=False, seed=1234, fixed_class_order=[0,1,2,3,4,5,6,7,8,9]\n",
    "# )\n",
    "\n",
    "\n",
    "# for experience in benchmark.train_stream:\n",
    "#     zeros = torch.stack([img[0][0] for img in experience.dataset])\n",
    "#     break\n",
    "# print(zeros.shape)"
   ]
  },
  {
   "cell_type": "code",
   "execution_count": 1,
   "metadata": {},
   "outputs": [
    {
     "ename": "NameError",
     "evalue": "name 'torch' is not defined",
     "output_type": "error",
     "traceback": [
      "\u001b[0;31m---------------------------------------------------------------------------\u001b[0m",
      "\u001b[0;31mNameError\u001b[0m                                 Traceback (most recent call last)",
      "Cell \u001b[0;32mIn[1], line 1\u001b[0m\n\u001b[0;32m----> 1\u001b[0m device \u001b[38;5;241m=\u001b[39m \u001b[43mtorch\u001b[49m\u001b[38;5;241m.\u001b[39mdevice(\u001b[38;5;124m\"\u001b[39m\u001b[38;5;124mcuda\u001b[39m\u001b[38;5;124m\"\u001b[39m \u001b[38;5;28;01mif\u001b[39;00m torch\u001b[38;5;241m.\u001b[39mcuda\u001b[38;5;241m.\u001b[39mis_available() \u001b[38;5;28;01melse\u001b[39;00m \u001b[38;5;124m\"\u001b[39m\u001b[38;5;124mcpu\u001b[39m\u001b[38;5;124m\"\u001b[39m)\n\u001b[1;32m      3\u001b[0m model \u001b[38;5;241m=\u001b[39m FastKAN(\n\u001b[1;32m      4\u001b[0m                 layers_hidden\u001b[38;5;241m=\u001b[39m[\u001b[38;5;241m784\u001b[39m,\u001b[38;5;241m1569\u001b[39m,\u001b[38;5;241m10\u001b[39m],\n\u001b[1;32m      5\u001b[0m                 num_grids\u001b[38;5;241m=\u001b[39m\u001b[38;5;241m4\u001b[39m,\n\u001b[1;32m      6\u001b[0m                 device\u001b[38;5;241m=\u001b[39mdevice\n\u001b[1;32m      7\u001b[0m             )\n\u001b[1;32m      9\u001b[0m model\u001b[38;5;241m.\u001b[39mload_state_dict(torch\u001b[38;5;241m.\u001b[39mload(\u001b[38;5;124m'\u001b[39m\u001b[38;5;124mFastKAN_4_6M.pth\u001b[39m\u001b[38;5;124m'\u001b[39m))\n",
      "\u001b[0;31mNameError\u001b[0m: name 'torch' is not defined"
     ]
    }
   ],
   "source": [
    "device = torch.device(\"cuda\" if torch.cuda.is_available() else \"cpu\")\n",
    "\n",
    "model = FastKAN(\n",
    "                layers_hidden=[784,1569,10],\n",
    "                num_grids=4,\n",
    "                device=device\n",
    "            )\n",
    "\n",
    "model.load_state_dict(torch.load('FastKAN_4_6M.pth'))\n",
    "model.eval()\n",
    "print(model)\n",
    "\n",
    "layers = []\n",
    "for layer in model.modules():\n",
    "    layers.append(layer)\n",
    "layer = layers[1]\n",
    "# print(\"====> Layer \", layer[1].output_dim)\n",
    "# # # for i in range(layer.input_dim):\n",
    "# for j in range(layer[1].output_dim):\n",
    "#     # layer.set_curve(i, j, torch.tensor([0.0, 1.0, 0.0], device=device))\n",
    "#     x, y = layer.plot_curve(0, j, num_pts=100, num_extrapolate_bins=3)\n",
    "#     plt.plot(x.to('cpu').numpy(), y.to('cpu').numpy(), label=f\"Last Layer, Input 0, Output {j}\")\n",
    "# # plt.legend()\n",
    "# plt.show()"
   ]
  },
  {
   "cell_type": "code",
   "execution_count": 15,
   "metadata": {},
   "outputs": [
    {
     "data": {
      "application/vnd.jupyter.widget-view+json": {
       "model_id": "bfc8296953a746c0a42f569260d34d60",
       "version_major": 2,
       "version_minor": 0
      },
      "text/plain": [
       "interactive(children=(IntSlider(value=1, description='j', max=9), Output(layout=Layout(height='350px'))), _dom…"
      ]
     },
     "execution_count": 15,
     "metadata": {},
     "output_type": "execute_result"
    }
   ],
   "source": [
    "import matplotlib.pyplot as plt\n",
    "import ipywidgets as widgets\n",
    "from ipywidgets import interact, interactive, fixed\n",
    "import numpy as np\n",
    "\n",
    "# Assuming layer[1].plot_curve is a function that takes two arguments and returns x, y coordinates\n",
    "def plot_curve_with_slider(j):\n",
    "    x, y = layer[1].plot_curve(0, j, num_pts=100, num_extrapolate_bins=3)\n",
    "    plt.figure()\n",
    "    plt.plot(x.to('cpu').numpy(), y.to('cpu').numpy(), label=f\"Last Layer, Input 0, Output {j}\")\n",
    "    plt.legend()\n",
    "    plt.show()\n",
    "\n",
    "# Create an interactive slider\n",
    "interactive_plot = interactive(plot_curve_with_slider, j=widgets.IntSlider(min=0, max=9, step=1, value=1))\n",
    "output = interactive_plot.children[-1]\n",
    "output.layout.height = '350px'\n",
    "interactive_plot\n"
   ]
  },
  {
   "cell_type": "code",
   "execution_count": 16,
   "metadata": {},
   "outputs": [
    {
     "ename": "FileNotFoundError",
     "evalue": "[Errno 2] No such file or directory: '../plots'",
     "output_type": "error",
     "traceback": [
      "\u001b[0;31m---------------------------------------------------------------------------\u001b[0m",
      "\u001b[0;31mFileNotFoundError\u001b[0m                         Traceback (most recent call last)",
      "Cell \u001b[0;32mIn[16], line 2\u001b[0m\n\u001b[1;32m      1\u001b[0m \u001b[38;5;28;01mimport\u001b[39;00m \u001b[38;5;21;01mos\u001b[39;00m\n\u001b[0;32m----> 2\u001b[0m \u001b[43mos\u001b[49m\u001b[38;5;241;43m.\u001b[39;49m\u001b[43mchdir\u001b[49m\u001b[43m(\u001b[49m\u001b[38;5;124;43m\"\u001b[39;49m\u001b[38;5;124;43m../plots\u001b[39;49m\u001b[38;5;124;43m\"\u001b[39;49m\u001b[43m)\u001b[49m\n\u001b[1;32m      3\u001b[0m \u001b[38;5;28;01mfor\u001b[39;00m j \u001b[38;5;129;01min\u001b[39;00m \u001b[38;5;28mrange\u001b[39m(\u001b[38;5;241m10\u001b[39m):\n\u001b[1;32m      4\u001b[0m     x, y \u001b[38;5;241m=\u001b[39m layer[\u001b[38;5;241m1\u001b[39m]\u001b[38;5;241m.\u001b[39mplot_curve(\u001b[38;5;241m0\u001b[39m, j, num_pts\u001b[38;5;241m=\u001b[39m\u001b[38;5;241m100\u001b[39m, num_extrapolate_bins\u001b[38;5;241m=\u001b[39m\u001b[38;5;241m3\u001b[39m)\n",
      "\u001b[0;31mFileNotFoundError\u001b[0m: [Errno 2] No such file or directory: '../plots'"
     ]
    }
   ],
   "source": [
    "import os\n",
    "os.chdir(\"../plots\")\n",
    "for j in range(10):\n",
    "    x, y = layer[1].plot_curve(0, j, num_pts=100, num_extrapolate_bins=3)\n",
    "    plt.figure()\n",
    "    plt.plot(x.to('cpu').numpy(), y.to('cpu').numpy(), label=f\"Last Layer, Input 0, Output {j}\")\n",
    "    plt.legend()\n",
    "    plt.savefig(f\"Output_Layer{j}.png\")\n",
    "os.chdir(\"Custom-Benchmarks\")"
   ]
  },
  {
   "cell_type": "code",
   "execution_count": null,
   "metadata": {},
   "outputs": [],
   "source": []
  }
 ],
 "metadata": {
  "kernelspec": {
   "display_name": "venv",
   "language": "python",
   "name": "python3"
  },
  "language_info": {
   "codemirror_mode": {
    "name": "ipython",
    "version": 3
   },
   "file_extension": ".py",
   "mimetype": "text/x-python",
   "name": "python",
   "nbconvert_exporter": "python",
   "pygments_lexer": "ipython3",
   "version": "3.12.4"
  }
 },
 "nbformat": 4,
 "nbformat_minor": 2
}
