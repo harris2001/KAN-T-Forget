{
 "cells": [
  {
   "cell_type": "code",
   "execution_count": 18,
   "metadata": {},
   "outputs": [
    {
     "data": {
      "application/vnd.jupyter.widget-view+json": {
       "model_id": "1304319b498c4f4ea242bfb35ed7bf85",
       "version_major": 2,
       "version_minor": 0
      },
      "text/plain": [
       "interactive(children=(SelectionSlider(description='j', options=(0, 1, 2, 3, 4, 5, 6, 7, 8, 9), value=0), Outpu…"
      ]
     },
     "execution_count": 18,
     "metadata": {},
     "output_type": "execute_result"
    }
   ],
   "source": [
    "import torch\n",
    "from Scaled_KAN import FastKAN\n",
    "import matplotlib.pyplot as plt\n",
    "import ipywidgets as widgets\n",
    "from ipywidgets import interact, interactive, fixed\n",
    "import numpy as np\n",
    "\n",
    "device = torch.device(\"cuda\" if torch.cuda.is_available() else \"cpu\")\n",
    "\n",
    "model_conv = FastKAN(\n",
    "                layers_hidden=[784,1569,10],\n",
    "                num_grids=4,\n",
    "                device=device\n",
    "            )\n",
    "model_continual_ewc = FastKAN(\n",
    "                layers_hidden=[784,1569,10],\n",
    "                num_grids=4,\n",
    "                device=device\n",
    "            )\n",
    "model_continual_replay = FastKAN(\n",
    "                layers_hidden=[784,1569,10],\n",
    "                num_grids=4,\n",
    "                device=device\n",
    "            )\n",
    "\n",
    "model_conv.load_state_dict(torch.load('FastKAN_4_6M.pth'))\n",
    "model_conv.eval()\n",
    "\n",
    "model_continual_ewc.load_state_dict(torch.load('continual_mnist_FastKAN_1569_ewc.pth'))\n",
    "model_continual_ewc.eval()\n",
    "\n",
    "model_continual_replay.load_state_dict(torch.load('continual_mnist_FastKAN_1569_replay.pth'))\n",
    "model_continual_replay.eval()\n",
    "\n",
    "layers_conv = []\n",
    "layers_continual_ewc = []\n",
    "layers_continual_replay = []\n",
    "for layer in model_conv.modules():\n",
    "    layers_conv.append(layer)\n",
    "for layer in model_continual_ewc.modules():\n",
    "    layers_continual_ewc.append(layer)\n",
    "for layer in model_continual_replay.modules():\n",
    "    layers_continual_replay.append(layer)\n",
    "\n",
    "layer_conv = layers_conv[1]\n",
    "layer_continual_ewc = layers_continual_ewc[1]\n",
    "layer_continual_replay = layers_continual_replay[1]\n",
    "\n",
    "\n",
    "# Assuming layer[1].plot_curve is a function that takes two arguments and returns x, y coordinates\n",
    "def plot_curve_with_slider(j):\n",
    "    x_conv, y_conv = layer_conv[1].plot_curve(0, j, num_pts=100, num_extrapolate_bins=3)\n",
    "    x_continual_ewc, y_continual_ewc = layer_continual_ewc[1].plot_curve(0, j, num_pts=100, num_extrapolate_bins=3)\n",
    "    x_continual_replay, y_continual_replay = layer_continual_replay[1].plot_curve(0, j, num_pts=100, num_extrapolate_bins=3)\n",
    "    x_conv, y_conv = x_conv.cpu().numpy(), y_conv.cpu().numpy()\n",
    "    x_continual_ewc, y_continual_ewc = x_continual_ewc.cpu().numpy(), y_continual_ewc.cpu().numpy()\n",
    "    x_continual_replay, y_continual_replay = x_continual_replay.cpu().numpy(), y_continual_replay.cpu().numpy()\n",
    "    plt.plot(x_conv, y_conv, label='Conv')\n",
    "    plt.plot(x_continual_ewc, y_continual_ewc, label='Continual EWC')\n",
    "    plt.plot(x_continual_replay, y_continual_replay, label='Continual Replay')\n",
    "    plt.legend()\n",
    "    plt.show()\n",
    "# Create an interactive slider\n",
    "interactive_plot = interactive(plot_curve_with_slider, j=widgets.SelectionSlider(options=[i for i in range(10)]))\n",
    "output = interactive_plot.children[-1]\n",
    "output.layout.height = '350px'\n",
    "interactive_plot"
   ]
  },
  {
   "cell_type": "code",
   "execution_count": null,
   "metadata": {},
   "outputs": [],
   "source": []
  }
 ],
 "metadata": {
  "kernelspec": {
   "display_name": "venv",
   "language": "python",
   "name": "python3"
  },
  "language_info": {
   "codemirror_mode": {
    "name": "ipython",
    "version": 3
   },
   "file_extension": ".py",
   "mimetype": "text/x-python",
   "name": "python",
   "nbconvert_exporter": "python",
   "pygments_lexer": "ipython3",
   "version": "3.12.4"
  }
 },
 "nbformat": 4,
 "nbformat_minor": 2
}
